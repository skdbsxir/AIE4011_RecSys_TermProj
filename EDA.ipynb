{
 "cells": [
  {
   "cell_type": "code",
   "execution_count": 1,
   "metadata": {},
   "outputs": [
    {
     "data": {
      "text/plain": [
       "['item_daily_features.csv',\n",
       " 'big_matrix.csv',\n",
       " 'user_features.csv',\n",
       " 'social_network.csv',\n",
       " 'item_categories.csv',\n",
       " 'small_matrix.csv']"
      ]
     },
     "execution_count": 1,
     "metadata": {},
     "output_type": "execute_result"
    }
   ],
   "source": [
    "import os\n",
    "\n",
    "data_path = os.getcwd() + '/KuaiRec/data/'\n",
    "os.listdir(data_path)"
   ]
  },
  {
   "cell_type": "markdown",
   "metadata": {},
   "source": [
    "## Interaction data"
   ]
  },
  {
   "cell_type": "code",
   "execution_count": 2,
   "metadata": {},
   "outputs": [
    {
     "data": {
      "text/plain": [
       "((12530806, 8), (4676570, 8))"
      ]
     },
     "execution_count": 2,
     "metadata": {},
     "output_type": "execute_result"
    }
   ],
   "source": [
    "import pandas as pd\n",
    "\n",
    "big_data = pd.read_csv(data_path + 'big_matrix.csv')\n",
    "small_data = pd.read_csv(data_path + 'small_matrix.csv')\n",
    "\n",
    "big_data.shape, small_data.shape"
   ]
  },
  {
   "cell_type": "code",
   "execution_count": 6,
   "metadata": {},
   "outputs": [
    {
     "data": {
      "text/plain": [
       "(Index(['user_id', 'video_id', 'play_duration', 'video_duration', 'time',\n",
       "        'date', 'timestamp', 'watch_ratio'],\n",
       "       dtype='object'),\n",
       " Index(['user_id', 'video_id', 'play_duration', 'video_duration', 'time',\n",
       "        'date', 'timestamp', 'watch_ratio'],\n",
       "       dtype='object'))"
      ]
     },
     "execution_count": 6,
     "metadata": {},
     "output_type": "execute_result"
    }
   ],
   "source": [
    "big_data.columns, small_data.columns"
   ]
  },
  {
   "cell_type": "markdown",
   "metadata": {},
   "source": [
    "- 공통적으로 같은 column\n",
    "\n",
    "(from official description)\n",
    "\n",
    "```\n",
    "user_id (int64): The ID of the user.\n",
    "video_id (int64):  The ID of the viewed video.\n",
    "play_duration (int64):\tTime of video viewing of this interaction (millisecond).\n",
    "video_duration (int64):\tTime of this video (millisecond).\n",
    "time (str, datetime):\tHuman-readable date for this interaction.\n",
    "date (int64):\tDate of this interaction.\n",
    "timestamp (float64):\tUnix timestamp\t\n",
    "watch_ratio (float64):\tThe video watching ratio (=play_duration/video_duration)\n",
    "\n",
    "The “watch_ratio” can be deemed as the label of the interaction. \n",
    "Note: there is no “like” signal for this dataset. If you need this binary signal in your scenarios, you can create it yourself.\n",
    "E.g., like = 1 if watch_ratio > 2.0.\n",
    "```"
   ]
  },
  {
   "cell_type": "markdown",
   "metadata": {},
   "source": [
    "- user_id == user_id\n",
    "- video_id == item_id\n",
    "- watch_ratio == rating\n",
    "\n",
    "> watch_ratio 가 아닌 play_duration을 rating으로 한다면?"
   ]
  },
  {
   "cell_type": "code",
   "execution_count": 7,
   "metadata": {},
   "outputs": [
    {
     "data": {
      "text/plain": [
       "(7176, 10728)"
      ]
     },
     "execution_count": 7,
     "metadata": {},
     "output_type": "execute_result"
    }
   ],
   "source": [
    "big_data['user_id'].nunique(), big_data['video_id'].nunique()"
   ]
  },
  {
   "cell_type": "code",
   "execution_count": 8,
   "metadata": {},
   "outputs": [
    {
     "data": {
      "text/plain": [
       "(1411, 3327)"
      ]
     },
     "execution_count": 8,
     "metadata": {},
     "output_type": "execute_result"
    }
   ],
   "source": [
    "small_data['user_id'].nunique(), small_data['video_id'].nunique()"
   ]
  },
  {
   "cell_type": "code",
   "execution_count": 31,
   "metadata": {},
   "outputs": [
    {
     "data": {
      "text/plain": [
       "(1411, 3327)"
      ]
     },
     "execution_count": 31,
     "metadata": {},
     "output_type": "execute_result"
    }
   ],
   "source": [
    "import numpy as np\n",
    "\n",
    "user_list_big = big_data['user_id'].unique()\n",
    "user_list_small = small_data['user_id'].unique()\n",
    "\n",
    "intersect_user = np.intersect1d(user_list_big, user_list_small)\n",
    "\n",
    "item_list_big = big_data['video_id'].unique()\n",
    "item_list_small = small_data['video_id'].unique()\n",
    "\n",
    "intersect_item = np.intersect1d(item_list_big, item_list_small)\n",
    "\n",
    "len(intersect_user), len(intersect_item)"
   ]
  },
  {
   "cell_type": "markdown",
   "metadata": {},
   "source": [
    "- small에 있는 사용자는 모두 big에도 존재함"
   ]
  },
  {
   "cell_type": "code",
   "execution_count": 20,
   "metadata": {},
   "outputs": [
    {
     "name": "stdout",
     "output_type": "stream",
     "text": [
      "count   12530806.0000\n",
      "mean           0.9445\n",
      "std            1.6746\n",
      "min            0.0000\n",
      "25%            0.3148\n",
      "50%            0.7235\n",
      "75%            1.1776\n",
      "max          573.4571\n",
      "Name: watch_ratio, dtype: float64\n"
     ]
    },
    {
     "data": {
      "image/png": "[encoded data removed]",
      "text/plain": [
       "<Figure size 640x480 with 1 Axes>"
      ]
     },
     "metadata": {},
     "output_type": "display_data"
    }
   ],
   "source": [
    "import matplotlib.pyplot as plt\n",
    "\n",
    "np.set_printoptions(suppress=True)\n",
    "pd.options.display.float_format = '{:.4f}'.format\n",
    "\n",
    "print(big_data['watch_ratio'].describe())\n",
    "big_data['watch_ratio'].plot(kind='box')\n",
    "plt.show()"
   ]
  },
  {
   "cell_type": "code",
   "execution_count": 21,
   "metadata": {},
   "outputs": [
    {
     "name": "stdout",
     "output_type": "stream",
     "text": [
      "count   4676570.0000\n",
      "mean          0.9071\n",
      "std           1.3623\n",
      "min           0.0000\n",
      "25%           0.4676\n",
      "50%           0.7692\n",
      "75%           1.1206\n",
      "max         571.5214\n",
      "Name: watch_ratio, dtype: float64\n"
     ]
    },
    {
     "data": {
      "image/png": "[encoded data removed]",
      "text/plain": [
       "<Figure size 640x480 with 1 Axes>"
      ]
     },
     "metadata": {},
     "output_type": "display_data"
    }
   ],
   "source": [
    "print(small_data['watch_ratio'].describe())\n",
    "small_data['watch_ratio'].plot(kind='box')\n",
    "plt.show()"
   ]
  },
  {
   "cell_type": "markdown",
   "metadata": {},
   "source": [
    "- 극단적으로 높은 watch_ratio가 존재\n",
    "  - 특정 video를 극심하게 좋아해서 계속 시청하는 사용자?"
   ]
  },
  {
   "cell_type": "markdown",
   "metadata": {},
   "source": [
    "## Social data"
   ]
  },
  {
   "cell_type": "code",
   "execution_count": 27,
   "metadata": {},
   "outputs": [
    {
     "data": {
      "text/plain": [
       "(     user_id   friend_list\n",
       " 0       3371        [2975]\n",
       " 1         24        [2665]\n",
       " 2       4402          [38]\n",
       " 3       4295        [4694]\n",
       " 4       7087        [7117]\n",
       " ..       ...           ...\n",
       " 467     2331        [4345]\n",
       " 468     6163        [1332]\n",
       " 469     3732         [670]\n",
       " 470     3335         [202]\n",
       " 471     5352  [4202, 7126]\n",
       " \n",
       " [472 rows x 2 columns],\n",
       " 472)"
      ]
     },
     "execution_count": 27,
     "metadata": {},
     "output_type": "execute_result"
    }
   ],
   "source": [
    "social_network = pd.read_csv(data_path + 'social_network.csv')\n",
    "social_network, social_network['user_id'].nunique()"
   ]
  },
  {
   "cell_type": "code",
   "execution_count": 30,
   "metadata": {},
   "outputs": [
    {
     "name": "stdout",
     "output_type": "stream",
     "text": [
      "count   472.0000\n",
      "mean      8.2542\n",
      "std       4.9690\n",
      "min       4.0000\n",
      "25%       6.0000\n",
      "50%       6.0000\n",
      "75%      10.2500\n",
      "max      30.0000\n",
      "Name: num_friend, dtype: float64\n"
     ]
    },
    {
     "data": {
      "image/png": "[encoded data removed]",
      "text/plain": [
       "<Figure size 640x480 with 1 Axes>"
      ]
     },
     "metadata": {},
     "output_type": "display_data"
    }
   ],
   "source": [
    "social_network['num_friend'] = social_network['friend_list'].apply(lambda x: len(x))\n",
    "print(social_network['num_friend'].describe())\n",
    "social_network['num_friend'].plot(kind='box')\n",
    "plt.show()"
   ]
  },
  {
   "cell_type": "markdown",
   "metadata": {},
   "source": [
    "- 모든 사용자가 social 관계가 있는 것으로 보이진 않음.\n",
    "  - 있는 사람은 보통 8명의 관계가 존재\n",
    "  - 소셜관계가 활발한 사용자 몇몇이 존재"
   ]
  },
  {
   "cell_type": "markdown",
   "metadata": {},
   "source": [
    "## User feature data"
   ]
  },
  {
   "cell_type": "code",
   "execution_count": 32,
   "metadata": {},
   "outputs": [
    {
     "data": {
      "text/html": [
       "<div>\n",
       "<style scoped>\n",
       "    .dataframe tbody tr th:only-of-type {\n",
       "        vertical-align: middle;\n",
       "    }\n",
       "\n",
       "    .dataframe tbody tr th {\n",
       "        vertical-align: top;\n",
       "    }\n",
       "\n",
       "    .dataframe thead th {\n",
       "        text-align: right;\n",
       "    }\n",
       "</style>\n",
       "<table border=\"1\" class=\"dataframe\">\n",
       "  <thead>\n",
       "    <tr style=\"text-align: right;\">\n",
       "      <th></th>\n",
       "      <th>user_id</th>\n",
       "      <th>user_active_degree</th>\n",
       "      <th>is_lowactive_period</th>\n",
       "      <th>is_live_streamer</th>\n",
       "      <th>is_video_author</th>\n",
       "      <th>follow_user_num</th>\n",
       "      <th>follow_user_num_range</th>\n",
       "      <th>fans_user_num</th>\n",
       "      <th>fans_user_num_range</th>\n",
       "      <th>friend_user_num</th>\n",
       "      <th>...</th>\n",
       "      <th>onehot_feat8</th>\n",
       "      <th>onehot_feat9</th>\n",
       "      <th>onehot_feat10</th>\n",
       "      <th>onehot_feat11</th>\n",
       "      <th>onehot_feat12</th>\n",
       "      <th>onehot_feat13</th>\n",
       "      <th>onehot_feat14</th>\n",
       "      <th>onehot_feat15</th>\n",
       "      <th>onehot_feat16</th>\n",
       "      <th>onehot_feat17</th>\n",
       "    </tr>\n",
       "  </thead>\n",
       "  <tbody>\n",
       "    <tr>\n",
       "      <th>0</th>\n",
       "      <td>0</td>\n",
       "      <td>high_active</td>\n",
       "      <td>0</td>\n",
       "      <td>0</td>\n",
       "      <td>0</td>\n",
       "      <td>5</td>\n",
       "      <td>(0,10]</td>\n",
       "      <td>0</td>\n",
       "      <td>0</td>\n",
       "      <td>0</td>\n",
       "      <td>...</td>\n",
       "      <td>184</td>\n",
       "      <td>6</td>\n",
       "      <td>3</td>\n",
       "      <td>0</td>\n",
       "      <td>0.0000</td>\n",
       "      <td>0.0000</td>\n",
       "      <td>0.0000</td>\n",
       "      <td>0.0000</td>\n",
       "      <td>0.0000</td>\n",
       "      <td>0.0000</td>\n",
       "    </tr>\n",
       "    <tr>\n",
       "      <th>1</th>\n",
       "      <td>1</td>\n",
       "      <td>full_active</td>\n",
       "      <td>0</td>\n",
       "      <td>0</td>\n",
       "      <td>0</td>\n",
       "      <td>386</td>\n",
       "      <td>(250,500]</td>\n",
       "      <td>4</td>\n",
       "      <td>[1,10)</td>\n",
       "      <td>2</td>\n",
       "      <td>...</td>\n",
       "      <td>186</td>\n",
       "      <td>6</td>\n",
       "      <td>2</td>\n",
       "      <td>0</td>\n",
       "      <td>0.0000</td>\n",
       "      <td>0.0000</td>\n",
       "      <td>0.0000</td>\n",
       "      <td>0.0000</td>\n",
       "      <td>0.0000</td>\n",
       "      <td>0.0000</td>\n",
       "    </tr>\n",
       "    <tr>\n",
       "      <th>2</th>\n",
       "      <td>2</td>\n",
       "      <td>full_active</td>\n",
       "      <td>0</td>\n",
       "      <td>0</td>\n",
       "      <td>0</td>\n",
       "      <td>27</td>\n",
       "      <td>(10,50]</td>\n",
       "      <td>0</td>\n",
       "      <td>0</td>\n",
       "      <td>0</td>\n",
       "      <td>...</td>\n",
       "      <td>51</td>\n",
       "      <td>2</td>\n",
       "      <td>3</td>\n",
       "      <td>0</td>\n",
       "      <td>0.0000</td>\n",
       "      <td>0.0000</td>\n",
       "      <td>0.0000</td>\n",
       "      <td>0.0000</td>\n",
       "      <td>0.0000</td>\n",
       "      <td>0.0000</td>\n",
       "    </tr>\n",
       "    <tr>\n",
       "      <th>3</th>\n",
       "      <td>3</td>\n",
       "      <td>full_active</td>\n",
       "      <td>0</td>\n",
       "      <td>0</td>\n",
       "      <td>0</td>\n",
       "      <td>16</td>\n",
       "      <td>(10,50]</td>\n",
       "      <td>0</td>\n",
       "      <td>0</td>\n",
       "      <td>0</td>\n",
       "      <td>...</td>\n",
       "      <td>251</td>\n",
       "      <td>3</td>\n",
       "      <td>2</td>\n",
       "      <td>0</td>\n",
       "      <td>0.0000</td>\n",
       "      <td>0.0000</td>\n",
       "      <td>0.0000</td>\n",
       "      <td>0.0000</td>\n",
       "      <td>0.0000</td>\n",
       "      <td>0.0000</td>\n",
       "    </tr>\n",
       "    <tr>\n",
       "      <th>4</th>\n",
       "      <td>4</td>\n",
       "      <td>full_active</td>\n",
       "      <td>0</td>\n",
       "      <td>0</td>\n",
       "      <td>0</td>\n",
       "      <td>122</td>\n",
       "      <td>(100,150]</td>\n",
       "      <td>4</td>\n",
       "      <td>[1,10)</td>\n",
       "      <td>0</td>\n",
       "      <td>...</td>\n",
       "      <td>99</td>\n",
       "      <td>4</td>\n",
       "      <td>2</td>\n",
       "      <td>0</td>\n",
       "      <td>0.0000</td>\n",
       "      <td>0.0000</td>\n",
       "      <td>0.0000</td>\n",
       "      <td>0.0000</td>\n",
       "      <td>0.0000</td>\n",
       "      <td>0.0000</td>\n",
       "    </tr>\n",
       "    <tr>\n",
       "      <th>...</th>\n",
       "      <td>...</td>\n",
       "      <td>...</td>\n",
       "      <td>...</td>\n",
       "      <td>...</td>\n",
       "      <td>...</td>\n",
       "      <td>...</td>\n",
       "      <td>...</td>\n",
       "      <td>...</td>\n",
       "      <td>...</td>\n",
       "      <td>...</td>\n",
       "      <td>...</td>\n",
       "      <td>...</td>\n",
       "      <td>...</td>\n",
       "      <td>...</td>\n",
       "      <td>...</td>\n",
       "      <td>...</td>\n",
       "      <td>...</td>\n",
       "      <td>...</td>\n",
       "      <td>...</td>\n",
       "      <td>...</td>\n",
       "      <td>...</td>\n",
       "    </tr>\n",
       "    <tr>\n",
       "      <th>7171</th>\n",
       "      <td>7171</td>\n",
       "      <td>full_active</td>\n",
       "      <td>0</td>\n",
       "      <td>0</td>\n",
       "      <td>1</td>\n",
       "      <td>52</td>\n",
       "      <td>(50,100]</td>\n",
       "      <td>1</td>\n",
       "      <td>[1,10)</td>\n",
       "      <td>0</td>\n",
       "      <td>...</td>\n",
       "      <td>259</td>\n",
       "      <td>1</td>\n",
       "      <td>4</td>\n",
       "      <td>0</td>\n",
       "      <td>1.0000</td>\n",
       "      <td>0.0000</td>\n",
       "      <td>0.0000</td>\n",
       "      <td>0.0000</td>\n",
       "      <td>0.0000</td>\n",
       "      <td>0.0000</td>\n",
       "    </tr>\n",
       "    <tr>\n",
       "      <th>7172</th>\n",
       "      <td>7172</td>\n",
       "      <td>full_active</td>\n",
       "      <td>0</td>\n",
       "      <td>0</td>\n",
       "      <td>0</td>\n",
       "      <td>45</td>\n",
       "      <td>(10,50]</td>\n",
       "      <td>2</td>\n",
       "      <td>[1,10)</td>\n",
       "      <td>2</td>\n",
       "      <td>...</td>\n",
       "      <td>11</td>\n",
       "      <td>2</td>\n",
       "      <td>0</td>\n",
       "      <td>0</td>\n",
       "      <td>1.0000</td>\n",
       "      <td>0.0000</td>\n",
       "      <td>0.0000</td>\n",
       "      <td>0.0000</td>\n",
       "      <td>0.0000</td>\n",
       "      <td>0.0000</td>\n",
       "    </tr>\n",
       "    <tr>\n",
       "      <th>7173</th>\n",
       "      <td>7173</td>\n",
       "      <td>full_active</td>\n",
       "      <td>0</td>\n",
       "      <td>0</td>\n",
       "      <td>0</td>\n",
       "      <td>615</td>\n",
       "      <td>500+</td>\n",
       "      <td>3</td>\n",
       "      <td>[1,10)</td>\n",
       "      <td>2</td>\n",
       "      <td>...</td>\n",
       "      <td>51</td>\n",
       "      <td>2</td>\n",
       "      <td>2</td>\n",
       "      <td>0</td>\n",
       "      <td>1.0000</td>\n",
       "      <td>0.0000</td>\n",
       "      <td>0.0000</td>\n",
       "      <td>0.0000</td>\n",
       "      <td>0.0000</td>\n",
       "      <td>0.0000</td>\n",
       "    </tr>\n",
       "    <tr>\n",
       "      <th>7174</th>\n",
       "      <td>7174</td>\n",
       "      <td>full_active</td>\n",
       "      <td>0</td>\n",
       "      <td>0</td>\n",
       "      <td>0</td>\n",
       "      <td>959</td>\n",
       "      <td>500+</td>\n",
       "      <td>0</td>\n",
       "      <td>0</td>\n",
       "      <td>0</td>\n",
       "      <td>...</td>\n",
       "      <td>107</td>\n",
       "      <td>3</td>\n",
       "      <td>2</td>\n",
       "      <td>0</td>\n",
       "      <td>0.0000</td>\n",
       "      <td>0.0000</td>\n",
       "      <td>0.0000</td>\n",
       "      <td>0.0000</td>\n",
       "      <td>0.0000</td>\n",
       "      <td>0.0000</td>\n",
       "    </tr>\n",
       "    <tr>\n",
       "      <th>7175</th>\n",
       "      <td>7175</td>\n",
       "      <td>full_active</td>\n",
       "      <td>0</td>\n",
       "      <td>0</td>\n",
       "      <td>1</td>\n",
       "      <td>98</td>\n",
       "      <td>(100,150]</td>\n",
       "      <td>35</td>\n",
       "      <td>[10,100)</td>\n",
       "      <td>33</td>\n",
       "      <td>...</td>\n",
       "      <td>132</td>\n",
       "      <td>5</td>\n",
       "      <td>2</td>\n",
       "      <td>0</td>\n",
       "      <td>0.0000</td>\n",
       "      <td>0.0000</td>\n",
       "      <td>0.0000</td>\n",
       "      <td>0.0000</td>\n",
       "      <td>0.0000</td>\n",
       "      <td>0.0000</td>\n",
       "    </tr>\n",
       "  </tbody>\n",
       "</table>\n",
       "<p>7176 rows × 31 columns</p>\n",
       "</div>"
      ],
      "text/plain": [
       "      user_id user_active_degree  is_lowactive_period  is_live_streamer  \\\n",
       "0           0        high_active                    0                 0   \n",
       "1           1        full_active                    0                 0   \n",
       "2           2        full_active                    0                 0   \n",
       "3           3        full_active                    0                 0   \n",
       "4           4        full_active                    0                 0   \n",
       "...       ...                ...                  ...               ...   \n",
       "7171     7171        full_active                    0                 0   \n",
       "7172     7172        full_active                    0                 0   \n",
       "7173     7173        full_active                    0                 0   \n",
       "7174     7174        full_active                    0                 0   \n",
       "7175     7175        full_active                    0                 0   \n",
       "\n",
       "      is_video_author  follow_user_num follow_user_num_range  fans_user_num  \\\n",
       "0                   0                5                (0,10]              0   \n",
       "1                   0              386             (250,500]              4   \n",
       "2                   0               27               (10,50]              0   \n",
       "3                   0               16               (10,50]              0   \n",
       "4                   0              122             (100,150]              4   \n",
       "...               ...              ...                   ...            ...   \n",
       "7171                1               52              (50,100]              1   \n",
       "7172                0               45               (10,50]              2   \n",
       "7173                0              615                  500+              3   \n",
       "7174                0              959                  500+              0   \n",
       "7175                1               98             (100,150]             35   \n",
       "\n",
       "     fans_user_num_range  friend_user_num  ... onehot_feat8  onehot_feat9  \\\n",
       "0                      0                0  ...          184             6   \n",
       "1                 [1,10)                2  ...          186             6   \n",
       "2                      0                0  ...           51             2   \n",
       "3                      0                0  ...          251             3   \n",
       "4                 [1,10)                0  ...           99             4   \n",
       "...                  ...              ...  ...          ...           ...   \n",
       "7171              [1,10)                0  ...          259             1   \n",
       "7172              [1,10)                2  ...           11             2   \n",
       "7173              [1,10)                2  ...           51             2   \n",
       "7174                   0                0  ...          107             3   \n",
       "7175            [10,100)               33  ...          132             5   \n",
       "\n",
       "     onehot_feat10  onehot_feat11  onehot_feat12  onehot_feat13  \\\n",
       "0                3              0         0.0000         0.0000   \n",
       "1                2              0         0.0000         0.0000   \n",
       "2                3              0         0.0000         0.0000   \n",
       "3                2              0         0.0000         0.0000   \n",
       "4                2              0         0.0000         0.0000   \n",
       "...            ...            ...            ...            ...   \n",
       "7171             4              0         1.0000         0.0000   \n",
       "7172             0              0         1.0000         0.0000   \n",
       "7173             2              0         1.0000         0.0000   \n",
       "7174             2              0         0.0000         0.0000   \n",
       "7175             2              0         0.0000         0.0000   \n",
       "\n",
       "      onehot_feat14  onehot_feat15  onehot_feat16  onehot_feat17  \n",
       "0            0.0000         0.0000         0.0000         0.0000  \n",
       "1            0.0000         0.0000         0.0000         0.0000  \n",
       "2            0.0000         0.0000         0.0000         0.0000  \n",
       "3            0.0000         0.0000         0.0000         0.0000  \n",
       "4            0.0000         0.0000         0.0000         0.0000  \n",
       "...             ...            ...            ...            ...  \n",
       "7171         0.0000         0.0000         0.0000         0.0000  \n",
       "7172         0.0000         0.0000         0.0000         0.0000  \n",
       "7173         0.0000         0.0000         0.0000         0.0000  \n",
       "7174         0.0000         0.0000         0.0000         0.0000  \n",
       "7175         0.0000         0.0000         0.0000         0.0000  \n",
       "\n",
       "[7176 rows x 31 columns]"
      ]
     },
     "execution_count": 32,
     "metadata": {},
     "output_type": "execute_result"
    }
   ],
   "source": [
    "user_feature = pd.read_csv(data_path + 'user_features.csv')\n",
    "user_feature"
   ]
  },
  {
   "cell_type": "code",
   "execution_count": 34,
   "metadata": {},
   "outputs": [
    {
     "data": {
      "text/plain": [
       "Index(['user_id', 'user_active_degree', 'is_lowactive_period',\n",
       "       'is_live_streamer', 'is_video_author', 'follow_user_num',\n",
       "       'follow_user_num_range', 'fans_user_num', 'fans_user_num_range',\n",
       "       'friend_user_num', 'friend_user_num_range', 'register_days',\n",
       "       'register_days_range', 'onehot_feat0', 'onehot_feat1', 'onehot_feat2',\n",
       "       'onehot_feat3', 'onehot_feat4', 'onehot_feat5', 'onehot_feat6',\n",
       "       'onehot_feat7', 'onehot_feat8', 'onehot_feat9', 'onehot_feat10',\n",
       "       'onehot_feat11', 'onehot_feat12', 'onehot_feat13', 'onehot_feat14',\n",
       "       'onehot_feat15', 'onehot_feat16', 'onehot_feat17'],\n",
       "      dtype='object')"
      ]
     },
     "execution_count": 34,
     "metadata": {},
     "output_type": "execute_result"
    }
   ],
   "source": [
    "user_feature.columns"
   ]
  },
  {
   "cell_type": "markdown",
   "metadata": {},
   "source": [
    "- user를 직관적으로 잘 표현할 수 있을 것으로 보이는 feature?\n",
    "  - `follow_user_num`: 이 사용자를 팔로우하는 사람 수\n",
    "  - `friend_user_num`: 이 사용자가 맺은 친구 수\n",
    "  - `fans_user_num`: 이 사용자의 팬 수\n",
    "  - `register_days`: 이 사용자가 서비스를 이용한지 지난 시간"
   ]
  },
  {
   "cell_type": "code",
   "execution_count": 39,
   "metadata": {},
   "outputs": [
    {
     "name": "stdout",
     "output_type": "stream",
     "text": [
      "count   7176.0000\n",
      "mean     197.3279\n",
      "std      426.5432\n",
      "min        0.0000\n",
      "25%        9.0000\n",
      "50%       33.0000\n",
      "75%      130.0000\n",
      "max     2100.0000\n",
      "Name: follow_user_num, dtype: float64\n",
      "\n",
      "\n",
      "count   7176.0000\n",
      "mean       4.4948\n",
      "std       44.8979\n",
      "min        0.0000\n",
      "25%        0.0000\n",
      "50%        0.0000\n",
      "75%        1.0000\n",
      "max     1425.0000\n",
      "Name: friend_user_num, dtype: float64\n"
     ]
    }
   ],
   "source": [
    "print(user_feature['follow_user_num'].describe())\n",
    "print('\\n')\n",
    "print(user_feature['friend_user_num'].describe())"
   ]
  },
  {
   "cell_type": "markdown",
   "metadata": {},
   "source": [
    "- 사용자 마다, 팔로우하는 사람 수도 극단적인 경향이 존재.\n",
    "  - q50이 33인데, q75가 130, std가 426\n",
    "  - 팔로우하는 사람 수의 분포는 극단적인 tail 분포 형태.\n",
    "- 친구 수 또한 극단적인 경향이 존재.\n",
    "  - q75만큼은 친구 수가 0 또는 1명, std가 44.\n",
    "  - 친구 수 분포가 극단적인 tail 분포 형태임을 유추해볼 수 있고, 특정 사용자에게 overfit이 될 수도 있을 것 같음.\n",
    "\n",
    "- 두 feature를 사용한다면? scaling 후에 활용?"
   ]
  },
  {
   "cell_type": "code",
   "execution_count": 40,
   "metadata": {},
   "outputs": [
    {
     "name": "stdout",
     "output_type": "stream",
     "text": [
      "count    7176.0000\n",
      "mean       12.5531\n",
      "std       181.0175\n",
      "min         0.0000\n",
      "25%         0.0000\n",
      "50%         2.0000\n",
      "75%         6.0000\n",
      "max     11401.0000\n",
      "Name: fans_user_num, dtype: float64\n",
      "\n",
      "\n",
      "count   7176.0000\n",
      "mean     296.7907\n",
      "std      286.3813\n",
      "min        0.0000\n",
      "25%      132.0000\n",
      "50%      225.0000\n",
      "75%      324.0000\n",
      "max     2245.0000\n",
      "Name: register_days, dtype: float64\n"
     ]
    }
   ],
   "source": [
    "print(user_feature['fans_user_num'].describe())\n",
    "print('\\n')\n",
    "print(user_feature['register_days'].describe())"
   ]
  },
  {
   "cell_type": "markdown",
   "metadata": {},
   "source": [
    "- 이전과 마찬가지로, 팬인 사용자 수 또한 극단적.\n",
    "- 서비스를 이용한 시간(날짜)도 극단적."
   ]
  },
  {
   "cell_type": "markdown",
   "metadata": {},
   "source": [
    "## Item category data"
   ]
  },
  {
   "cell_type": "code",
   "execution_count": 42,
   "metadata": {},
   "outputs": [
    {
     "data": {
      "text/plain": [
       "(       video_id     feat  num_feat\n",
       " 0             0      [8]         3\n",
       " 1             1  [27, 9]         7\n",
       " 2             2      [9]         3\n",
       " 3             3     [26]         4\n",
       " 4             4      [5]         3\n",
       " ...         ...      ...       ...\n",
       " 10723     10723     [11]         4\n",
       " 10724     10724      [2]         3\n",
       " 10725     10725     [15]         4\n",
       " 10726     10726     [19]         4\n",
       " 10727     10727      [5]         3\n",
       " \n",
       " [10728 rows x 3 columns],\n",
       " count   10728.0000\n",
       " mean        4.2519\n",
       " std         1.6321\n",
       " min         3.0000\n",
       " 25%         3.0000\n",
       " 50%         4.0000\n",
       " 75%         4.0000\n",
       " max        15.0000\n",
       " Name: num_feat, dtype: float64)"
      ]
     },
     "execution_count": 42,
     "metadata": {},
     "output_type": "execute_result"
    }
   ],
   "source": [
    "item_category = pd.read_csv(data_path + 'item_categories.csv')\n",
    "item_category['num_feat'] = item_category['feat'].apply(lambda x: len(x))\n",
    "item_category, item_category['num_feat'].describe()"
   ]
  },
  {
   "cell_type": "markdown",
   "metadata": {},
   "source": [
    "- 아이템 고유의 feature, 해당 아이템의 카테고리.\n",
    "    - 아이템이 video이므로, 서비스에 업로드 되었을 때 붙은 카테고리 (e.g. 유머, 진지, 호러 등...)로 생각해볼 수 있음."
   ]
  },
  {
   "cell_type": "markdown",
   "metadata": {},
   "source": [
    "## Interaction data (2)"
   ]
  },
  {
   "cell_type": "code",
   "execution_count": 48,
   "metadata": {},
   "outputs": [
    {
     "data": {
      "text/plain": [
       "count   10728.0000\n",
       "mean     1168.0468\n",
       "std      1599.9257\n",
       "min         1.0000\n",
       "25%        38.0000\n",
       "50%       243.0000\n",
       "75%      2142.5000\n",
       "max     27615.0000\n",
       "Name: num_user, dtype: float64"
      ]
     },
     "execution_count": 48,
     "metadata": {},
     "output_type": "execute_result"
    }
   ],
   "source": [
    "item_user_interaction_big = big_data.groupby('video_id').agg({'user_id': list}).reset_index()\n",
    "item_user_interaction_big['num_user'] = item_user_interaction_big['user_id'].apply(lambda x: len(x))\n",
    "item_user_interaction_big['num_user'].describe()"
   ]
  },
  {
   "cell_type": "code",
   "execution_count": 53,
   "metadata": {},
   "outputs": [
    {
     "data": {
      "text/plain": [
       "<AxesSubplot:title={'center':'Number of users interacted with items'}, xlabel='video_id'>"
      ]
     },
     "execution_count": 53,
     "metadata": {},
     "output_type": "execute_result"
    },
    {
     "data": {
      "image/png": "[encoded data removed]",
      "text/plain": [
       "<Figure size 1200x400 with 1 Axes>"
      ]
     },
     "metadata": {},
     "output_type": "display_data"
    }
   ],
   "source": [
    "item_user_interaction_big.plot(kind='line', x='video_id', y='num_user', figsize=(12, 4), title=\"Number of users interacted with items\")"
   ]
  },
  {
   "cell_type": "markdown",
   "metadata": {},
   "source": [
    "- 아이템과 상호작용한 사용자 수?\n",
    "  - 아주 극단적으로 많이 소비된 아이템이 존재.\n",
    "  - 반면 100번 미만으로 소비된 아이템들도 대다수 존재."
   ]
  },
  {
   "cell_type": "code",
   "execution_count": 52,
   "metadata": {},
   "outputs": [
    {
     "data": {
      "text/plain": [
       "count    7176.0000\n",
       "mean     1746.2104\n",
       "std       991.8322\n",
       "min       100.0000\n",
       "25%       883.0000\n",
       "50%      1846.5000\n",
       "75%      2461.0000\n",
       "max     16015.0000\n",
       "Name: num_item, dtype: float64"
      ]
     },
     "execution_count": 52,
     "metadata": {},
     "output_type": "execute_result"
    }
   ],
   "source": [
    "user_item_interaction_big = big_data.groupby('user_id').agg({'video_id':list}).reset_index()\n",
    "user_item_interaction_big['num_item'] = user_item_interaction_big['video_id'].apply(lambda x: len(x))\n",
    "user_item_interaction_big['num_item'].describe()"
   ]
  },
  {
   "cell_type": "code",
   "execution_count": 55,
   "metadata": {},
   "outputs": [
    {
     "data": {
      "text/plain": [
       "<AxesSubplot:title={'center':'Number of items interacted with users'}, xlabel='user_id'>"
      ]
     },
     "execution_count": 55,
     "metadata": {},
     "output_type": "execute_result"
    },
    {
     "data": {
      "image/png": "[encoded data removed]",
      "text/plain": [
       "<Figure size 1200x400 with 1 Axes>"
      ]
     },
     "metadata": {},
     "output_type": "display_data"
    }
   ],
   "source": [
    "user_item_interaction_big.plot(kind='line', x='user_id', y='num_item', figsize=(12, 4), title=\"Number of items interacted with users\")"
   ]
  },
  {
   "cell_type": "markdown",
   "metadata": {},
   "source": [
    "- 사용자마다 상호작용한 아이템 수?\n",
    "  - 마찬가지로 많이 극단적으로 소비한 아이템이 많은 사용자가 일부 존재.\n",
    "  - 앞선 아이템의 경우에 비해, 대부분이 생각보다 유사한 수의 아이템을 소비."
   ]
  },
  {
   "cell_type": "markdown",
   "metadata": {},
   "source": [
    "## Process\n",
    "\n",
    "1. big data를 이용해 train -> small data를 이용해 valid/test\n",
    "    - 사용할 column: `user_id`, `video_id`, `watch_ratio` (or `play_duration`)\n",
    "2. feature data 활용?\n",
    "    - 앞서 `.csv`에 있던 4개의 feature를 활용? 또는 `interaction.csv`에서 추출한 상호작용한 아이템/사용자 수를 활용?\n",
    "3. Task?\n",
    "    - watch 유무에 따른 binary classification?\n",
    "    - `watch_ratio` (or `play_duration`)을 target value로 둔 rating regression?\n",
    "\n",
    "<br>\n",
    "\n",
    "## To use model\n",
    "\n",
    "- Matrix Factorization (GMF part of NeuMF)\n",
    "- Neural Collaborative Filtering (MLP part of NeuMF) \n",
    "- Neural Matrix Factorization (NeuMF)\n",
    "\n",
    "$\\rightarrow$ linear한 관계만을 봤을 때, non-linear한 관계만을 봤을때, 둘다 봤을때를 비교"
   ]
  }
 ],
 "metadata": {
  "kernelspec": {
   "display_name": "TorchEnv",
   "language": "python",
   "name": "python3"
  },
  "language_info": {
   "codemirror_mode": {
    "name": "ipython",
    "version": 3
   },
   "file_extension": ".py",
   "mimetype": "text/x-python",
   "name": "python",
   "nbconvert_exporter": "python",
   "pygments_lexer": "ipython3",
   "version": "3.9.13"
  }
 },
 "nbformat": 4,
 "nbformat_minor": 2
}
